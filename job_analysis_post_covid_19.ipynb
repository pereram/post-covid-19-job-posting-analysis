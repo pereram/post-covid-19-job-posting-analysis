{
 "cells": [
  {
   "cell_type": "markdown",
   "metadata": {},
   "source": [
    "# Post covid-19 job analysis in Michigan"
   ]
  },
  {
   "cell_type": "markdown",
   "metadata": {},
   "source": [
    "This note book analyses the job postings in MI area as by August 2020. The Data Scientist job postings were extracted from indeed.com.  "
   ]
  },
  {
   "cell_type": "code",
   "execution_count": 4,
   "metadata": {},
   "outputs": [],
   "source": [
    "import pandas as pd"
   ]
  },
  {
   "cell_type": "code",
   "execution_count": 5,
   "metadata": {},
   "outputs": [],
   "source": [
    "df=pd.read_csv('indeed_job_listings_DS_MI_08_23.csv')"
   ]
  },
  {
   "cell_type": "code",
   "execution_count": 6,
   "metadata": {},
   "outputs": [
    {
     "data": {
      "text/html": [
       "<div>\n",
       "<style scoped>\n",
       "    .dataframe tbody tr th:only-of-type {\n",
       "        vertical-align: middle;\n",
       "    }\n",
       "\n",
       "    .dataframe tbody tr th {\n",
       "        vertical-align: top;\n",
       "    }\n",
       "\n",
       "    .dataframe thead th {\n",
       "        text-align: right;\n",
       "    }\n",
       "</style>\n",
       "<table border=\"1\" class=\"dataframe\">\n",
       "  <thead>\n",
       "    <tr style=\"text-align: right;\">\n",
       "      <th></th>\n",
       "      <th>Title</th>\n",
       "      <th>Company</th>\n",
       "      <th>Location</th>\n",
       "      <th>Link</th>\n",
       "      <th>Review</th>\n",
       "      <th>Salary</th>\n",
       "      <th>Description</th>\n",
       "    </tr>\n",
       "  </thead>\n",
       "  <tbody>\n",
       "    <tr>\n",
       "      <th>0</th>\n",
       "      <td>Senior Data Visualization Engineer</td>\n",
       "      <td>Mathematica Policy Research</td>\n",
       "      <td>Ann Arbor, MI</td>\n",
       "      <td>https://www.indeed.com/rc/clk?jk=c1b417080530d...</td>\n",
       "      <td>3.8</td>\n",
       "      <td>None</td>\n",
       "      <td>Position Description:\\n\\nMathematica applies e...</td>\n",
       "    </tr>\n",
       "    <tr>\n",
       "      <th>1</th>\n",
       "      <td>Big Data Engineer - 100% REMOTE!</td>\n",
       "      <td>Tech Quarry</td>\n",
       "      <td>None</td>\n",
       "      <td>https://www.indeed.com/pagead/clk?mo=r&amp;ad=-6NY...</td>\n",
       "      <td>None</td>\n",
       "      <td>$75 - $115 an hour</td>\n",
       "      <td>**Absolutely No 3rd parties / No C2C, please**...</td>\n",
       "    </tr>\n",
       "    <tr>\n",
       "      <th>2</th>\n",
       "      <td>Senior Data Engineer</td>\n",
       "      <td>Koddi</td>\n",
       "      <td>Ann Arbor, MI 48108</td>\n",
       "      <td>https://www.indeed.com/rc/clk?jk=88480da53df38...</td>\n",
       "      <td>None</td>\n",
       "      <td>None</td>\n",
       "      <td>Passionate about development in leading techno...</td>\n",
       "    </tr>\n",
       "    <tr>\n",
       "      <th>3</th>\n",
       "      <td>GDI&amp;A - Data Operations Analyst</td>\n",
       "      <td>Ford Motor Company</td>\n",
       "      <td>Dearborn, MI</td>\n",
       "      <td>https://www.indeed.com/rc/clk?jk=6c095e602c9be...</td>\n",
       "      <td>4.1</td>\n",
       "      <td>None</td>\n",
       "      <td>Job Description:\\n\\nWe are trusted advisers en...</td>\n",
       "    </tr>\n",
       "    <tr>\n",
       "      <th>4</th>\n",
       "      <td>CX Data Scientist</td>\n",
       "      <td>Ford Motor Company</td>\n",
       "      <td>Dearborn, MI</td>\n",
       "      <td>https://www.indeed.com/rc/clk?jk=6f22db9173e21...</td>\n",
       "      <td>4.1</td>\n",
       "      <td>None</td>\n",
       "      <td>Position Overview / Description\\n\\nAt Ford Mot...</td>\n",
       "    </tr>\n",
       "  </tbody>\n",
       "</table>\n",
       "</div>"
      ],
      "text/plain": [
       "                                Title                      Company  \\\n",
       "0  Senior Data Visualization Engineer  Mathematica Policy Research   \n",
       "1    Big Data Engineer - 100% REMOTE!                  Tech Quarry   \n",
       "2                Senior Data Engineer                        Koddi   \n",
       "3     GDI&A - Data Operations Analyst           Ford Motor Company   \n",
       "4                   CX Data Scientist           Ford Motor Company   \n",
       "\n",
       "              Location                                               Link  \\\n",
       "0        Ann Arbor, MI  https://www.indeed.com/rc/clk?jk=c1b417080530d...   \n",
       "1                 None  https://www.indeed.com/pagead/clk?mo=r&ad=-6NY...   \n",
       "2  Ann Arbor, MI 48108  https://www.indeed.com/rc/clk?jk=88480da53df38...   \n",
       "3         Dearborn, MI  https://www.indeed.com/rc/clk?jk=6c095e602c9be...   \n",
       "4         Dearborn, MI  https://www.indeed.com/rc/clk?jk=6f22db9173e21...   \n",
       "\n",
       "  Review              Salary  \\\n",
       "0    3.8                None   \n",
       "1   None  $75 - $115 an hour   \n",
       "2   None                None   \n",
       "3    4.1                None   \n",
       "4    4.1                None   \n",
       "\n",
       "                                         Description  \n",
       "0  Position Description:\\n\\nMathematica applies e...  \n",
       "1  **Absolutely No 3rd parties / No C2C, please**...  \n",
       "2  Passionate about development in leading techno...  \n",
       "3  Job Description:\\n\\nWe are trusted advisers en...  \n",
       "4  Position Overview / Description\\n\\nAt Ford Mot...  "
      ]
     },
     "execution_count": 6,
     "metadata": {},
     "output_type": "execute_result"
    }
   ],
   "source": [
    "df.head()"
   ]
  },
  {
   "cell_type": "markdown",
   "metadata": {},
   "source": [
    "###  Checking any Duplicate job postings"
   ]
  },
  {
   "cell_type": "markdown",
   "metadata": {},
   "source": [
    "The combined 'job title' and 'company' are grouped and checked for the dupliates. DataFrames provide convinient groupby functionality for this specific task."
   ]
  },
  {
   "cell_type": "code",
   "execution_count": 151,
   "metadata": {},
   "outputs": [
    {
     "data": {
      "text/html": [
       "<div>\n",
       "<style scoped>\n",
       "    .dataframe tbody tr th:only-of-type {\n",
       "        vertical-align: middle;\n",
       "    }\n",
       "\n",
       "    .dataframe tbody tr th {\n",
       "        vertical-align: top;\n",
       "    }\n",
       "\n",
       "    .dataframe thead th {\n",
       "        text-align: right;\n",
       "    }\n",
       "</style>\n",
       "<table border=\"1\" class=\"dataframe\">\n",
       "  <thead>\n",
       "    <tr style=\"text-align: right;\">\n",
       "      <th></th>\n",
       "      <th>Company</th>\n",
       "      <th>Title</th>\n",
       "    </tr>\n",
       "  </thead>\n",
       "  <tbody>\n",
       "    <tr>\n",
       "      <th>0</th>\n",
       "      <td>Mathematica Policy Research</td>\n",
       "      <td>Senior Data Visualization Engineer</td>\n",
       "    </tr>\n",
       "    <tr>\n",
       "      <th>1</th>\n",
       "      <td>Tech Quarry</td>\n",
       "      <td>Big Data Engineer - 100% REMOTE!</td>\n",
       "    </tr>\n",
       "    <tr>\n",
       "      <th>2</th>\n",
       "      <td>Koddi</td>\n",
       "      <td>Senior Data Engineer</td>\n",
       "    </tr>\n",
       "    <tr>\n",
       "      <th>3</th>\n",
       "      <td>Ford Motor Company</td>\n",
       "      <td>GDI&amp;A - Data Operations Analyst</td>\n",
       "    </tr>\n",
       "    <tr>\n",
       "      <th>4</th>\n",
       "      <td>Ford Motor Company</td>\n",
       "      <td>CX Data Scientist</td>\n",
       "    </tr>\n",
       "    <tr>\n",
       "      <th>5</th>\n",
       "      <td>Alteryx, Inc.</td>\n",
       "      <td>Sr. Data Scientist</td>\n",
       "    </tr>\n",
       "    <tr>\n",
       "      <th>6</th>\n",
       "      <td>BNP Media</td>\n",
       "      <td>Data Engineer</td>\n",
       "    </tr>\n",
       "    <tr>\n",
       "      <th>7</th>\n",
       "      <td>Lifesprk</td>\n",
       "      <td>Senior Staff Data Scientist</td>\n",
       "    </tr>\n",
       "    <tr>\n",
       "      <th>8</th>\n",
       "      <td>Guardian Glass</td>\n",
       "      <td>Data Scientist</td>\n",
       "    </tr>\n",
       "    <tr>\n",
       "      <th>9</th>\n",
       "      <td>BCS Data Center Operations</td>\n",
       "      <td>Data Center Engineer</td>\n",
       "    </tr>\n",
       "    <tr>\n",
       "      <th>10</th>\n",
       "      <td>BCS Data Center Operations</td>\n",
       "      <td>Chief Engineer - Data Center</td>\n",
       "    </tr>\n",
       "    <tr>\n",
       "      <th>11</th>\n",
       "      <td>NSK Americas</td>\n",
       "      <td>Business Analyst</td>\n",
       "    </tr>\n",
       "    <tr>\n",
       "      <th>12</th>\n",
       "      <td>Lineage Logistics</td>\n",
       "      <td>Data Engineer</td>\n",
       "    </tr>\n",
       "    <tr>\n",
       "      <th>13</th>\n",
       "      <td>Learning Care Group, Inc.</td>\n",
       "      <td>Data Engineer</td>\n",
       "    </tr>\n",
       "    <tr>\n",
       "      <th>14</th>\n",
       "      <td>The Mars Agency</td>\n",
       "      <td>Senior Data Scientist</td>\n",
       "    </tr>\n",
       "    <tr>\n",
       "      <th>15</th>\n",
       "      <td>ArborMetrix</td>\n",
       "      <td>Data Scientist</td>\n",
       "    </tr>\n",
       "    <tr>\n",
       "      <th>16</th>\n",
       "      <td>University of Michigan</td>\n",
       "      <td>Instructional Aide (TEMP) - Masters of Applied...</td>\n",
       "    </tr>\n",
       "    <tr>\n",
       "      <th>17</th>\n",
       "      <td>Koddi</td>\n",
       "      <td>Data Scientist</td>\n",
       "    </tr>\n",
       "    <tr>\n",
       "      <th>18</th>\n",
       "      <td>Domino's</td>\n",
       "      <td>Machine Learning Engineer</td>\n",
       "    </tr>\n",
       "    <tr>\n",
       "      <th>19</th>\n",
       "      <td>Insperity</td>\n",
       "      <td>Manager, Data Science</td>\n",
       "    </tr>\n",
       "    <tr>\n",
       "      <th>20</th>\n",
       "      <td>FCA</td>\n",
       "      <td>Software Engineer - IoT, Artificial Intelligen...</td>\n",
       "    </tr>\n",
       "    <tr>\n",
       "      <th>21</th>\n",
       "      <td>PIC North America</td>\n",
       "      <td>Swine Data Science Director, PIC</td>\n",
       "    </tr>\n",
       "    <tr>\n",
       "      <th>22</th>\n",
       "      <td>Prunix LLC</td>\n",
       "      <td>Big Data Engineer</td>\n",
       "    </tr>\n",
       "    <tr>\n",
       "      <th>23</th>\n",
       "      <td>Chameleon Power</td>\n",
       "      <td>Machine Learning Engineer/Developer</td>\n",
       "    </tr>\n",
       "    <tr>\n",
       "      <th>24</th>\n",
       "      <td>Autodesk</td>\n",
       "      <td>Site Reliability Engineer, Data Operations</td>\n",
       "    </tr>\n",
       "    <tr>\n",
       "      <th>25</th>\n",
       "      <td>Sartorius Stedim Biotech</td>\n",
       "      <td>Senior Data Scientist</td>\n",
       "    </tr>\n",
       "    <tr>\n",
       "      <th>26</th>\n",
       "      <td>Alteryx, Inc.</td>\n",
       "      <td>Director, Data Science</td>\n",
       "    </tr>\n",
       "    <tr>\n",
       "      <th>27</th>\n",
       "      <td>Visteon Corporation</td>\n",
       "      <td>Data Scientist 2</td>\n",
       "    </tr>\n",
       "    <tr>\n",
       "      <th>28</th>\n",
       "      <td>MiHIN</td>\n",
       "      <td>Senior Software Developer in Data Science Group</td>\n",
       "    </tr>\n",
       "    <tr>\n",
       "      <th>29</th>\n",
       "      <td>NewRez</td>\n",
       "      <td>Retention Data Scientist</td>\n",
       "    </tr>\n",
       "  </tbody>\n",
       "</table>\n",
       "</div>"
      ],
      "text/plain": [
       "                        Company  \\\n",
       "0   Mathematica Policy Research   \n",
       "1                   Tech Quarry   \n",
       "2                         Koddi   \n",
       "3            Ford Motor Company   \n",
       "4            Ford Motor Company   \n",
       "5                 Alteryx, Inc.   \n",
       "6                     BNP Media   \n",
       "7                      Lifesprk   \n",
       "8                Guardian Glass   \n",
       "9    BCS Data Center Operations   \n",
       "10   BCS Data Center Operations   \n",
       "11                 NSK Americas   \n",
       "12            Lineage Logistics   \n",
       "13    Learning Care Group, Inc.   \n",
       "14              The Mars Agency   \n",
       "15                  ArborMetrix   \n",
       "16       University of Michigan   \n",
       "17                        Koddi   \n",
       "18                     Domino's   \n",
       "19                    Insperity   \n",
       "20                          FCA   \n",
       "21            PIC North America   \n",
       "22                   Prunix LLC   \n",
       "23              Chameleon Power   \n",
       "24                     Autodesk   \n",
       "25     Sartorius Stedim Biotech   \n",
       "26                Alteryx, Inc.   \n",
       "27          Visteon Corporation   \n",
       "28                        MiHIN   \n",
       "29                       NewRez   \n",
       "\n",
       "                                                Title  \n",
       "0                  Senior Data Visualization Engineer  \n",
       "1                    Big Data Engineer - 100% REMOTE!  \n",
       "2                                Senior Data Engineer  \n",
       "3                     GDI&A - Data Operations Analyst  \n",
       "4                                   CX Data Scientist  \n",
       "5                                  Sr. Data Scientist  \n",
       "6                                       Data Engineer  \n",
       "7                         Senior Staff Data Scientist  \n",
       "8                                      Data Scientist  \n",
       "9                                Data Center Engineer  \n",
       "10                       Chief Engineer - Data Center  \n",
       "11                                   Business Analyst  \n",
       "12                                      Data Engineer  \n",
       "13                                      Data Engineer  \n",
       "14                              Senior Data Scientist  \n",
       "15                                     Data Scientist  \n",
       "16  Instructional Aide (TEMP) - Masters of Applied...  \n",
       "17                                     Data Scientist  \n",
       "18                          Machine Learning Engineer  \n",
       "19                              Manager, Data Science  \n",
       "20  Software Engineer - IoT, Artificial Intelligen...  \n",
       "21                   Swine Data Science Director, PIC  \n",
       "22                                  Big Data Engineer  \n",
       "23                Machine Learning Engineer/Developer  \n",
       "24         Site Reliability Engineer, Data Operations  \n",
       "25                              Senior Data Scientist  \n",
       "26                             Director, Data Science  \n",
       "27                                   Data Scientist 2  \n",
       "28    Senior Software Developer in Data Science Group  \n",
       "29                           Retention Data Scientist  "
      ]
     },
     "execution_count": 151,
     "metadata": {},
     "output_type": "execute_result"
    }
   ],
   "source": [
    "df[['Company','Title']]"
   ]
  },
  {
   "cell_type": "code",
   "execution_count": 155,
   "metadata": {},
   "outputs": [
    {
     "data": {
      "text/plain": [
       "True"
      ]
     },
     "execution_count": 155,
     "metadata": {},
     "output_type": "execute_result"
    }
   ],
   "source": [
    "title_company_pairs=df.groupby(['Title','Company']).groups\n",
    "length_of_groups=len(set(title_company_pairs.keys()))\n",
    "length_of_groups==df.shape[0]"
   ]
  },
  {
   "cell_type": "markdown",
   "metadata": {},
   "source": [
    "The number of unique jobtitles(from each compny) is equal to total number of records in the data frame, which says there are no duplicate records. "
   ]
  },
  {
   "cell_type": "markdown",
   "metadata": {},
   "source": [
    "## The unique job openings posted by each company"
   ]
  },
  {
   "cell_type": "markdown",
   "metadata": {},
   "source": [
    "Next, the distribution of job postings from each company will be analyzed."
   ]
  },
  {
   "cell_type": "code",
   "execution_count": 157,
   "metadata": {},
   "outputs": [],
   "source": [
    "import numpy as np"
   ]
  },
  {
   "cell_type": "code",
   "execution_count": 162,
   "metadata": {},
   "outputs": [],
   "source": [
    "company_grouped = df.groupby('Company')\n",
    "agg_job_nu_table=company_grouped.agg(np.size)[['Title']]"
   ]
  },
  {
   "cell_type": "code",
   "execution_count": 163,
   "metadata": {},
   "outputs": [
    {
     "data": {
      "text/plain": [
       "pandas.core.frame.DataFrame"
      ]
     },
     "execution_count": 163,
     "metadata": {},
     "output_type": "execute_result"
    }
   ],
   "source": [
    "type(agg_job_nu_table)"
   ]
  },
  {
   "cell_type": "markdown",
   "metadata": {},
   "source": [
    "Renaming the number of jobs column, sorting the table."
   ]
  },
  {
   "cell_type": "code",
   "execution_count": 187,
   "metadata": {},
   "outputs": [],
   "source": [
    "agg_job_nu_table.columns=['Nu of jobs']\n",
    "agg_job_nu_table.sort_values(by=['Nu of jobs'],inplace=True, ascending='False') # inplace=True will sort the original dataframe, agg_job_nu_table"
   ]
  },
  {
   "cell_type": "code",
   "execution_count": 188,
   "metadata": {},
   "outputs": [
    {
     "data": {
      "text/plain": [
       "<matplotlib.axes._subplots.AxesSubplot at 0x26af48e0388>"
      ]
     },
     "execution_count": 188,
     "metadata": {},
     "output_type": "execute_result"
    },
    {
     "data": {
      "image/png": "[encoded data removed]",
      "text/plain": [
       "<Figure size 432x288 with 1 Axes>"
      ]
     },
     "metadata": {
      "needs_background": "light"
     },
     "output_type": "display_data"
    }
   ],
   "source": [
    "agg_job_nu_table.plot( y='Nu of jobs', kind = 'bar')"
   ]
  },
  {
   "cell_type": "markdown",
   "metadata": {},
   "source": [
    "## Seperate the city names and representing them as the location"
   ]
  },
  {
   "cell_type": "code",
   "execution_count": 7,
   "metadata": {},
   "outputs": [],
   "source": [
    "cities=df.Location"
   ]
  },
  {
   "cell_type": "code",
   "execution_count": 8,
   "metadata": {},
   "outputs": [
    {
     "data": {
      "text/plain": [
       "0            Ann Arbor, MI\n",
       "1                     None\n",
       "2      Ann Arbor, MI 48108\n",
       "3             Dearborn, MI\n",
       "4             Dearborn, MI\n",
       "5            Ann Arbor, MI\n",
       "6                     None\n",
       "7                     None\n",
       "8       Carleton, MI 48117\n",
       "9            Ann Arbor, MI\n",
       "10           Ann Arbor, MI\n",
       "11     Ann Arbor, MI 48105\n",
       "12          Novi, MI 48377\n",
       "13          Novi, MI 48375\n",
       "14    Southfield, MI 48033\n",
       "15     Ann Arbor, MI 48104\n",
       "16           Ann Arbor, MI\n",
       "17     Ann Arbor, MI 48108\n",
       "18     Ann Arbor, MI 48106\n",
       "19                    None\n",
       "20    Southfield, MI 48033\n",
       "21                    None\n",
       "22                    None\n",
       "23                Novi, MI\n",
       "24          Novi, MI 48375\n",
       "25           Ann Arbor, MI\n",
       "26           Ann Arbor, MI\n",
       "27     Van Buren, MI 48111\n",
       "28     Ann Arbor, MI 48105\n",
       "29                    None\n",
       "Name: Location, dtype: object"
      ]
     },
     "execution_count": 8,
     "metadata": {},
     "output_type": "execute_result"
    }
   ],
   "source": [
    "cities"
   ]
  },
  {
   "cell_type": "code",
   "execution_count": 9,
   "metadata": {},
   "outputs": [],
   "source": [
    "lst= [thing.split(',') for thing in cities]"
   ]
  },
  {
   "cell_type": "code",
   "execution_count": 10,
   "metadata": {},
   "outputs": [
    {
     "data": {
      "text/plain": [
       "30"
      ]
     },
     "execution_count": 10,
     "metadata": {},
     "output_type": "execute_result"
    }
   ],
   "source": [
    "len(lst)"
   ]
  },
  {
   "cell_type": "code",
   "execution_count": 11,
   "metadata": {},
   "outputs": [
    {
     "data": {
      "text/plain": [
       "[['Ann Arbor', ' MI'],\n",
       " ['None'],\n",
       " ['Ann Arbor', ' MI 48108'],\n",
       " ['Dearborn', ' MI'],\n",
       " ['Dearborn', ' MI'],\n",
       " ['Ann Arbor', ' MI'],\n",
       " ['None'],\n",
       " ['None'],\n",
       " ['Carleton', ' MI 48117'],\n",
       " ['Ann Arbor', ' MI'],\n",
       " ['Ann Arbor', ' MI'],\n",
       " ['Ann Arbor', ' MI 48105'],\n",
       " ['Novi', ' MI 48377'],\n",
       " ['Novi', ' MI 48375'],\n",
       " ['Southfield', ' MI 48033'],\n",
       " ['Ann Arbor', ' MI 48104'],\n",
       " ['Ann Arbor', ' MI'],\n",
       " ['Ann Arbor', ' MI 48108'],\n",
       " ['Ann Arbor', ' MI 48106'],\n",
       " ['None'],\n",
       " ['Southfield', ' MI 48033'],\n",
       " ['None'],\n",
       " ['None'],\n",
       " ['Novi', ' MI'],\n",
       " ['Novi', ' MI 48375'],\n",
       " ['Ann Arbor', ' MI'],\n",
       " ['Ann Arbor', ' MI'],\n",
       " ['Van Buren', ' MI 48111'],\n",
       " ['Ann Arbor', ' MI 48105'],\n",
       " ['None']]"
      ]
     },
     "execution_count": 11,
     "metadata": {},
     "output_type": "execute_result"
    }
   ],
   "source": [
    "lst"
   ]
  },
  {
   "cell_type": "code",
   "execution_count": 12,
   "metadata": {},
   "outputs": [],
   "source": [
    "cities=[]\n",
    "for ele in lst:\n",
    "    cities.append(str(ele[0]))\n",
    "    "
   ]
  },
  {
   "cell_type": "code",
   "execution_count": 13,
   "metadata": {},
   "outputs": [
    {
     "data": {
      "text/plain": [
       "['Ann Arbor',\n",
       " 'None',\n",
       " 'Ann Arbor',\n",
       " 'Dearborn',\n",
       " 'Dearborn',\n",
       " 'Ann Arbor',\n",
       " 'None',\n",
       " 'None',\n",
       " 'Carleton',\n",
       " 'Ann Arbor',\n",
       " 'Ann Arbor',\n",
       " 'Ann Arbor',\n",
       " 'Novi',\n",
       " 'Novi',\n",
       " 'Southfield',\n",
       " 'Ann Arbor',\n",
       " 'Ann Arbor',\n",
       " 'Ann Arbor',\n",
       " 'Ann Arbor',\n",
       " 'None',\n",
       " 'Southfield',\n",
       " 'None',\n",
       " 'None',\n",
       " 'Novi',\n",
       " 'Novi',\n",
       " 'Ann Arbor',\n",
       " 'Ann Arbor',\n",
       " 'Van Buren',\n",
       " 'Ann Arbor',\n",
       " 'None']"
      ]
     },
     "execution_count": 13,
     "metadata": {},
     "output_type": "execute_result"
    }
   ],
   "source": [
    "cities"
   ]
  },
  {
   "cell_type": "code",
   "execution_count": 14,
   "metadata": {},
   "outputs": [],
   "source": [
    "location=[]\n",
    "for city in cities:\n",
    "    temp_lst=(city.split())\n",
    "    city=\"\"\n",
    "    for inner_ele in temp_lst:\n",
    "        if inner_ele == 'MI':\n",
    "            break\n",
    "            \n",
    "        city+=(str(inner_ele))\n",
    "    location.append(city) "
   ]
  },
  {
   "cell_type": "code",
   "execution_count": 15,
   "metadata": {},
   "outputs": [
    {
     "data": {
      "text/plain": [
       "['AnnArbor',\n",
       " 'None',\n",
       " 'AnnArbor',\n",
       " 'Dearborn',\n",
       " 'Dearborn',\n",
       " 'AnnArbor',\n",
       " 'None',\n",
       " 'None',\n",
       " 'Carleton',\n",
       " 'AnnArbor',\n",
       " 'AnnArbor',\n",
       " 'AnnArbor',\n",
       " 'Novi',\n",
       " 'Novi',\n",
       " 'Southfield',\n",
       " 'AnnArbor',\n",
       " 'AnnArbor',\n",
       " 'AnnArbor',\n",
       " 'AnnArbor',\n",
       " 'None',\n",
       " 'Southfield',\n",
       " 'None',\n",
       " 'None',\n",
       " 'Novi',\n",
       " 'Novi',\n",
       " 'AnnArbor',\n",
       " 'AnnArbor',\n",
       " 'VanBuren',\n",
       " 'AnnArbor',\n",
       " 'None']"
      ]
     },
     "execution_count": 15,
     "metadata": {},
     "output_type": "execute_result"
    }
   ],
   "source": [
    "location"
   ]
  },
  {
   "cell_type": "code",
   "execution_count": 16,
   "metadata": {},
   "outputs": [
    {
     "data": {
      "text/plain": [
       "30"
      ]
     },
     "execution_count": 16,
     "metadata": {},
     "output_type": "execute_result"
    }
   ],
   "source": [
    "len(location)"
   ]
  },
  {
   "cell_type": "code",
   "execution_count": 17,
   "metadata": {},
   "outputs": [],
   "source": [
    "df=df.assign(Location= location) "
   ]
  },
  {
   "cell_type": "code",
   "execution_count": 18,
   "metadata": {},
   "outputs": [
    {
     "data": {
      "text/html": [
       "<div>\n",
       "<style scoped>\n",
       "    .dataframe tbody tr th:only-of-type {\n",
       "        vertical-align: middle;\n",
       "    }\n",
       "\n",
       "    .dataframe tbody tr th {\n",
       "        vertical-align: top;\n",
       "    }\n",
       "\n",
       "    .dataframe thead th {\n",
       "        text-align: right;\n",
       "    }\n",
       "</style>\n",
       "<table border=\"1\" class=\"dataframe\">\n",
       "  <thead>\n",
       "    <tr style=\"text-align: right;\">\n",
       "      <th></th>\n",
       "      <th>Title</th>\n",
       "      <th>Company</th>\n",
       "      <th>Location</th>\n",
       "      <th>Link</th>\n",
       "      <th>Review</th>\n",
       "      <th>Salary</th>\n",
       "      <th>Description</th>\n",
       "    </tr>\n",
       "  </thead>\n",
       "  <tbody>\n",
       "    <tr>\n",
       "      <th>0</th>\n",
       "      <td>Senior Data Visualization Engineer</td>\n",
       "      <td>Mathematica Policy Research</td>\n",
       "      <td>AnnArbor</td>\n",
       "      <td>https://www.indeed.com/rc/clk?jk=c1b417080530d...</td>\n",
       "      <td>3.8</td>\n",
       "      <td>None</td>\n",
       "      <td>Position Description:\\n\\nMathematica applies e...</td>\n",
       "    </tr>\n",
       "    <tr>\n",
       "      <th>1</th>\n",
       "      <td>Big Data Engineer - 100% REMOTE!</td>\n",
       "      <td>Tech Quarry</td>\n",
       "      <td>None</td>\n",
       "      <td>https://www.indeed.com/pagead/clk?mo=r&amp;ad=-6NY...</td>\n",
       "      <td>None</td>\n",
       "      <td>$75 - $115 an hour</td>\n",
       "      <td>**Absolutely No 3rd parties / No C2C, please**...</td>\n",
       "    </tr>\n",
       "    <tr>\n",
       "      <th>2</th>\n",
       "      <td>Senior Data Engineer</td>\n",
       "      <td>Koddi</td>\n",
       "      <td>AnnArbor</td>\n",
       "      <td>https://www.indeed.com/rc/clk?jk=88480da53df38...</td>\n",
       "      <td>None</td>\n",
       "      <td>None</td>\n",
       "      <td>Passionate about development in leading techno...</td>\n",
       "    </tr>\n",
       "    <tr>\n",
       "      <th>3</th>\n",
       "      <td>GDI&amp;A - Data Operations Analyst</td>\n",
       "      <td>Ford Motor Company</td>\n",
       "      <td>Dearborn</td>\n",
       "      <td>https://www.indeed.com/rc/clk?jk=6c095e602c9be...</td>\n",
       "      <td>4.1</td>\n",
       "      <td>None</td>\n",
       "      <td>Job Description:\\n\\nWe are trusted advisers en...</td>\n",
       "    </tr>\n",
       "    <tr>\n",
       "      <th>4</th>\n",
       "      <td>CX Data Scientist</td>\n",
       "      <td>Ford Motor Company</td>\n",
       "      <td>Dearborn</td>\n",
       "      <td>https://www.indeed.com/rc/clk?jk=6f22db9173e21...</td>\n",
       "      <td>4.1</td>\n",
       "      <td>None</td>\n",
       "      <td>Position Overview / Description\\n\\nAt Ford Mot...</td>\n",
       "    </tr>\n",
       "    <tr>\n",
       "      <th>5</th>\n",
       "      <td>Sr. Data Scientist</td>\n",
       "      <td>Alteryx, Inc.</td>\n",
       "      <td>AnnArbor</td>\n",
       "      <td>https://www.indeed.com/rc/clk?jk=c45ba03809607...</td>\n",
       "      <td>4.0</td>\n",
       "      <td>None</td>\n",
       "      <td>About Alteryx\\nAlteryx develops software for d...</td>\n",
       "    </tr>\n",
       "    <tr>\n",
       "      <th>6</th>\n",
       "      <td>Data Engineer</td>\n",
       "      <td>BNP Media</td>\n",
       "      <td>None</td>\n",
       "      <td>https://www.indeed.com/pagead/clk?mo=r&amp;ad=-6NY...</td>\n",
       "      <td>3.7</td>\n",
       "      <td>$55,000 - $60,000 a year</td>\n",
       "      <td>Job Description: This individual will serve as...</td>\n",
       "    </tr>\n",
       "    <tr>\n",
       "      <th>7</th>\n",
       "      <td>Senior Staff Data Scientist</td>\n",
       "      <td>Lifesprk</td>\n",
       "      <td>None</td>\n",
       "      <td>https://www.indeed.com/pagead/clk?mo=r&amp;ad=-6NY...</td>\n",
       "      <td>3.5</td>\n",
       "      <td>None</td>\n",
       "      <td>Lifesprk’s product and engineering team is gro...</td>\n",
       "    </tr>\n",
       "    <tr>\n",
       "      <th>8</th>\n",
       "      <td>Data Scientist</td>\n",
       "      <td>Guardian Glass</td>\n",
       "      <td>Carleton</td>\n",
       "      <td>https://www.indeed.com/rc/clk?jk=cd351faea7d52...</td>\n",
       "      <td>3.4</td>\n",
       "      <td>None</td>\n",
       "      <td>Description\\nGlobal Data and Analytics Group i...</td>\n",
       "    </tr>\n",
       "    <tr>\n",
       "      <th>9</th>\n",
       "      <td>Data Center Engineer</td>\n",
       "      <td>BCS Data Center Operations</td>\n",
       "      <td>AnnArbor</td>\n",
       "      <td>https://www.indeed.com/company/BCS-Data-Center...</td>\n",
       "      <td>None</td>\n",
       "      <td>None</td>\n",
       "      <td>WHY EMPLOYEES SAY BCS IS A GREAT WORKPLACE:\\n\"...</td>\n",
       "    </tr>\n",
       "    <tr>\n",
       "      <th>10</th>\n",
       "      <td>Chief Engineer - Data Center</td>\n",
       "      <td>BCS Data Center Operations</td>\n",
       "      <td>AnnArbor</td>\n",
       "      <td>https://www.indeed.com/company/BCS-Data-Center...</td>\n",
       "      <td>None</td>\n",
       "      <td>None</td>\n",
       "      <td>WHY EMPLOYEES SAY BCS IS A GREAT WORKPLACE:\\n\"...</td>\n",
       "    </tr>\n",
       "    <tr>\n",
       "      <th>11</th>\n",
       "      <td>Business Analyst</td>\n",
       "      <td>NSK Americas</td>\n",
       "      <td>AnnArbor</td>\n",
       "      <td>https://www.indeed.com/rc/clk?jk=3ff26aa9ead53...</td>\n",
       "      <td>3.5</td>\n",
       "      <td>None</td>\n",
       "      <td>Responsibilities:\\nApply analytical tools to d...</td>\n",
       "    </tr>\n",
       "    <tr>\n",
       "      <th>12</th>\n",
       "      <td>Data Engineer</td>\n",
       "      <td>Lineage Logistics</td>\n",
       "      <td>Novi</td>\n",
       "      <td>https://www.indeed.com/rc/clk?jk=02fe740045e48...</td>\n",
       "      <td>3.1</td>\n",
       "      <td>None</td>\n",
       "      <td>Please note: our interview process is designed...</td>\n",
       "    </tr>\n",
       "    <tr>\n",
       "      <th>13</th>\n",
       "      <td>Data Engineer</td>\n",
       "      <td>Learning Care Group, Inc.</td>\n",
       "      <td>Novi</td>\n",
       "      <td>https://www.indeed.com/rc/clk?jk=4251f24b9dbda...</td>\n",
       "      <td>3.5</td>\n",
       "      <td>None</td>\n",
       "      <td>Be a difference maker, with Learning Care Grou...</td>\n",
       "    </tr>\n",
       "    <tr>\n",
       "      <th>14</th>\n",
       "      <td>Senior Data Scientist</td>\n",
       "      <td>The Mars Agency</td>\n",
       "      <td>Southfield</td>\n",
       "      <td>https://www.indeed.com/rc/clk?jk=83f7e0a5e8494...</td>\n",
       "      <td>3.3</td>\n",
       "      <td>None</td>\n",
       "      <td>The Mars Agency is a global marketing practice...</td>\n",
       "    </tr>\n",
       "    <tr>\n",
       "      <th>15</th>\n",
       "      <td>Data Scientist</td>\n",
       "      <td>ArborMetrix</td>\n",
       "      <td>AnnArbor</td>\n",
       "      <td>https://www.indeed.com/rc/clk?jk=ed996cae30b13...</td>\n",
       "      <td>4.5</td>\n",
       "      <td>None</td>\n",
       "      <td>Company Description\\nArborMetrix advances heal...</td>\n",
       "    </tr>\n",
       "    <tr>\n",
       "      <th>16</th>\n",
       "      <td>Instructional Aide (TEMP) - Masters of Applied...</td>\n",
       "      <td>University of Michigan</td>\n",
       "      <td>AnnArbor</td>\n",
       "      <td>https://www.indeed.com/rc/clk?jk=ed1e2c49c0481...</td>\n",
       "      <td>4.3</td>\n",
       "      <td>$18 an hour</td>\n",
       "      <td>How to Apply\\nA cover letter is required for c...</td>\n",
       "    </tr>\n",
       "    <tr>\n",
       "      <th>17</th>\n",
       "      <td>Data Scientist</td>\n",
       "      <td>Koddi</td>\n",
       "      <td>AnnArbor</td>\n",
       "      <td>https://www.indeed.com/rc/clk?jk=f73efbd3afffd...</td>\n",
       "      <td>None</td>\n",
       "      <td>None</td>\n",
       "      <td>Passionate about development in leading techno...</td>\n",
       "    </tr>\n",
       "    <tr>\n",
       "      <th>18</th>\n",
       "      <td>Machine Learning Engineer</td>\n",
       "      <td>Domino's</td>\n",
       "      <td>AnnArbor</td>\n",
       "      <td>https://www.indeed.com/rc/clk?jk=4976a02cc7603...</td>\n",
       "      <td>3.6</td>\n",
       "      <td>None</td>\n",
       "      <td>Domino’s, which began in 1960 as a single stor...</td>\n",
       "    </tr>\n",
       "    <tr>\n",
       "      <th>19</th>\n",
       "      <td>Manager, Data Science</td>\n",
       "      <td>Insperity</td>\n",
       "      <td>None</td>\n",
       "      <td>https://www.indeed.com/pagead/clk?mo=r&amp;ad=-6NY...</td>\n",
       "      <td>3.7</td>\n",
       "      <td>None</td>\n",
       "      <td>There’s a reason Insperity was ranked in the t...</td>\n",
       "    </tr>\n",
       "    <tr>\n",
       "      <th>20</th>\n",
       "      <td>Software Engineer - IoT, Artificial Intelligen...</td>\n",
       "      <td>FCA</td>\n",
       "      <td>Southfield</td>\n",
       "      <td>https://www.indeed.com/rc/clk?jk=b60302204f919...</td>\n",
       "      <td>4.0</td>\n",
       "      <td>None</td>\n",
       "      <td>Comau LLC is now creating a new team focused o...</td>\n",
       "    </tr>\n",
       "    <tr>\n",
       "      <th>21</th>\n",
       "      <td>Swine Data Science Director, PIC</td>\n",
       "      <td>PIC North America</td>\n",
       "      <td>None</td>\n",
       "      <td>https://www.indeed.com/pagead/clk?mo=r&amp;ad=-6NY...</td>\n",
       "      <td>4.5</td>\n",
       "      <td>None</td>\n",
       "      <td>Job Description\\nSwine Data Science Director, ...</td>\n",
       "    </tr>\n",
       "    <tr>\n",
       "      <th>22</th>\n",
       "      <td>Big Data Engineer</td>\n",
       "      <td>Prunix LLC</td>\n",
       "      <td>None</td>\n",
       "      <td>https://www.indeed.com/pagead/clk?mo=r&amp;ad=-6NY...</td>\n",
       "      <td>None</td>\n",
       "      <td>$65 - $78 an hour</td>\n",
       "      <td>Hello! We are looking for a Big Data Engineer ...</td>\n",
       "    </tr>\n",
       "    <tr>\n",
       "      <th>23</th>\n",
       "      <td>Machine Learning Engineer/Developer</td>\n",
       "      <td>Chameleon Power</td>\n",
       "      <td>Novi</td>\n",
       "      <td>https://www.indeed.com/company/Chameleon-Power...</td>\n",
       "      <td>None</td>\n",
       "      <td>$40 - $80 an hour</td>\n",
       "      <td>Responsibilities of the Machine Learning/Compu...</td>\n",
       "    </tr>\n",
       "    <tr>\n",
       "      <th>24</th>\n",
       "      <td>Site Reliability Engineer, Data Operations</td>\n",
       "      <td>Autodesk</td>\n",
       "      <td>Novi</td>\n",
       "      <td>https://www.indeed.com/rc/clk?jk=6382a14b064fe...</td>\n",
       "      <td>4.1</td>\n",
       "      <td>None</td>\n",
       "      <td>Job Title:\\nSite Reliability Engineer [Data Op...</td>\n",
       "    </tr>\n",
       "    <tr>\n",
       "      <th>25</th>\n",
       "      <td>Senior Data Scientist</td>\n",
       "      <td>Sartorius Stedim Biotech</td>\n",
       "      <td>AnnArbor</td>\n",
       "      <td>https://www.indeed.com/rc/clk?jk=ecc23ddedfe55...</td>\n",
       "      <td>3.7</td>\n",
       "      <td>None</td>\n",
       "      <td>Senior Data Scientist to Sartoius Data Analyti...</td>\n",
       "    </tr>\n",
       "    <tr>\n",
       "      <th>26</th>\n",
       "      <td>Director, Data Science</td>\n",
       "      <td>Alteryx, Inc.</td>\n",
       "      <td>AnnArbor</td>\n",
       "      <td>https://www.indeed.com/rc/clk?jk=0815458f19898...</td>\n",
       "      <td>4.0</td>\n",
       "      <td>None</td>\n",
       "      <td>Overview:\\nAt Alteryx, Inc., we live for the t...</td>\n",
       "    </tr>\n",
       "    <tr>\n",
       "      <th>27</th>\n",
       "      <td>Data Scientist 2</td>\n",
       "      <td>Visteon Corporation</td>\n",
       "      <td>VanBuren</td>\n",
       "      <td>https://www.indeed.com/rc/clk?jk=513e061901761...</td>\n",
       "      <td>4.1</td>\n",
       "      <td>None</td>\n",
       "      <td>Introduction\\nAs the Data Scientist you will c...</td>\n",
       "    </tr>\n",
       "    <tr>\n",
       "      <th>28</th>\n",
       "      <td>Senior Software Developer in Data Science Group</td>\n",
       "      <td>MiHIN</td>\n",
       "      <td>AnnArbor</td>\n",
       "      <td>https://www.indeed.com/rc/clk?jk=b21edf04d6972...</td>\n",
       "      <td>None</td>\n",
       "      <td>None</td>\n",
       "      <td>Position Purpose\\n\\nThe Senior Software Develo...</td>\n",
       "    </tr>\n",
       "    <tr>\n",
       "      <th>29</th>\n",
       "      <td>Retention Data Scientist</td>\n",
       "      <td>NewRez</td>\n",
       "      <td>None</td>\n",
       "      <td>https://www.indeed.com/pagead/clk?mo=r&amp;ad=-6NY...</td>\n",
       "      <td>3.6</td>\n",
       "      <td>None</td>\n",
       "      <td>As a Retention Data Scientist, you will be del...</td>\n",
       "    </tr>\n",
       "  </tbody>\n",
       "</table>\n",
       "</div>"
      ],
      "text/plain": [
       "                                                Title  \\\n",
       "0                  Senior Data Visualization Engineer   \n",
       "1                    Big Data Engineer - 100% REMOTE!   \n",
       "2                                Senior Data Engineer   \n",
       "3                     GDI&A - Data Operations Analyst   \n",
       "4                                   CX Data Scientist   \n",
       "5                                  Sr. Data Scientist   \n",
       "6                                       Data Engineer   \n",
       "7                         Senior Staff Data Scientist   \n",
       "8                                      Data Scientist   \n",
       "9                                Data Center Engineer   \n",
       "10                       Chief Engineer - Data Center   \n",
       "11                                   Business Analyst   \n",
       "12                                      Data Engineer   \n",
       "13                                      Data Engineer   \n",
       "14                              Senior Data Scientist   \n",
       "15                                     Data Scientist   \n",
       "16  Instructional Aide (TEMP) - Masters of Applied...   \n",
       "17                                     Data Scientist   \n",
       "18                          Machine Learning Engineer   \n",
       "19                              Manager, Data Science   \n",
       "20  Software Engineer - IoT, Artificial Intelligen...   \n",
       "21                   Swine Data Science Director, PIC   \n",
       "22                                  Big Data Engineer   \n",
       "23                Machine Learning Engineer/Developer   \n",
       "24         Site Reliability Engineer, Data Operations   \n",
       "25                              Senior Data Scientist   \n",
       "26                             Director, Data Science   \n",
       "27                                   Data Scientist 2   \n",
       "28    Senior Software Developer in Data Science Group   \n",
       "29                           Retention Data Scientist   \n",
       "\n",
       "                        Company    Location  \\\n",
       "0   Mathematica Policy Research    AnnArbor   \n",
       "1                   Tech Quarry        None   \n",
       "2                         Koddi    AnnArbor   \n",
       "3            Ford Motor Company    Dearborn   \n",
       "4            Ford Motor Company    Dearborn   \n",
       "5                 Alteryx, Inc.    AnnArbor   \n",
       "6                     BNP Media        None   \n",
       "7                      Lifesprk        None   \n",
       "8                Guardian Glass    Carleton   \n",
       "9    BCS Data Center Operations    AnnArbor   \n",
       "10   BCS Data Center Operations    AnnArbor   \n",
       "11                 NSK Americas    AnnArbor   \n",
       "12            Lineage Logistics        Novi   \n",
       "13    Learning Care Group, Inc.        Novi   \n",
       "14              The Mars Agency  Southfield   \n",
       "15                  ArborMetrix    AnnArbor   \n",
       "16       University of Michigan    AnnArbor   \n",
       "17                        Koddi    AnnArbor   \n",
       "18                     Domino's    AnnArbor   \n",
       "19                    Insperity        None   \n",
       "20                          FCA  Southfield   \n",
       "21            PIC North America        None   \n",
       "22                   Prunix LLC        None   \n",
       "23              Chameleon Power        Novi   \n",
       "24                     Autodesk        Novi   \n",
       "25     Sartorius Stedim Biotech    AnnArbor   \n",
       "26                Alteryx, Inc.    AnnArbor   \n",
       "27          Visteon Corporation    VanBuren   \n",
       "28                        MiHIN    AnnArbor   \n",
       "29                       NewRez        None   \n",
       "\n",
       "                                                 Link Review  \\\n",
       "0   https://www.indeed.com/rc/clk?jk=c1b417080530d...    3.8   \n",
       "1   https://www.indeed.com/pagead/clk?mo=r&ad=-6NY...   None   \n",
       "2   https://www.indeed.com/rc/clk?jk=88480da53df38...   None   \n",
       "3   https://www.indeed.com/rc/clk?jk=6c095e602c9be...    4.1   \n",
       "4   https://www.indeed.com/rc/clk?jk=6f22db9173e21...    4.1   \n",
       "5   https://www.indeed.com/rc/clk?jk=c45ba03809607...    4.0   \n",
       "6   https://www.indeed.com/pagead/clk?mo=r&ad=-6NY...    3.7   \n",
       "7   https://www.indeed.com/pagead/clk?mo=r&ad=-6NY...    3.5   \n",
       "8   https://www.indeed.com/rc/clk?jk=cd351faea7d52...    3.4   \n",
       "9   https://www.indeed.com/company/BCS-Data-Center...   None   \n",
       "10  https://www.indeed.com/company/BCS-Data-Center...   None   \n",
       "11  https://www.indeed.com/rc/clk?jk=3ff26aa9ead53...    3.5   \n",
       "12  https://www.indeed.com/rc/clk?jk=02fe740045e48...    3.1   \n",
       "13  https://www.indeed.com/rc/clk?jk=4251f24b9dbda...    3.5   \n",
       "14  https://www.indeed.com/rc/clk?jk=83f7e0a5e8494...    3.3   \n",
       "15  https://www.indeed.com/rc/clk?jk=ed996cae30b13...    4.5   \n",
       "16  https://www.indeed.com/rc/clk?jk=ed1e2c49c0481...    4.3   \n",
       "17  https://www.indeed.com/rc/clk?jk=f73efbd3afffd...   None   \n",
       "18  https://www.indeed.com/rc/clk?jk=4976a02cc7603...    3.6   \n",
       "19  https://www.indeed.com/pagead/clk?mo=r&ad=-6NY...    3.7   \n",
       "20  https://www.indeed.com/rc/clk?jk=b60302204f919...    4.0   \n",
       "21  https://www.indeed.com/pagead/clk?mo=r&ad=-6NY...    4.5   \n",
       "22  https://www.indeed.com/pagead/clk?mo=r&ad=-6NY...   None   \n",
       "23  https://www.indeed.com/company/Chameleon-Power...   None   \n",
       "24  https://www.indeed.com/rc/clk?jk=6382a14b064fe...    4.1   \n",
       "25  https://www.indeed.com/rc/clk?jk=ecc23ddedfe55...    3.7   \n",
       "26  https://www.indeed.com/rc/clk?jk=0815458f19898...    4.0   \n",
       "27  https://www.indeed.com/rc/clk?jk=513e061901761...    4.1   \n",
       "28  https://www.indeed.com/rc/clk?jk=b21edf04d6972...   None   \n",
       "29  https://www.indeed.com/pagead/clk?mo=r&ad=-6NY...    3.6   \n",
       "\n",
       "                      Salary  \\\n",
       "0                       None   \n",
       "1         $75 - $115 an hour   \n",
       "2                       None   \n",
       "3                       None   \n",
       "4                       None   \n",
       "5                       None   \n",
       "6   $55,000 - $60,000 a year   \n",
       "7                       None   \n",
       "8                       None   \n",
       "9                       None   \n",
       "10                      None   \n",
       "11                      None   \n",
       "12                      None   \n",
       "13                      None   \n",
       "14                      None   \n",
       "15                      None   \n",
       "16               $18 an hour   \n",
       "17                      None   \n",
       "18                      None   \n",
       "19                      None   \n",
       "20                      None   \n",
       "21                      None   \n",
       "22         $65 - $78 an hour   \n",
       "23         $40 - $80 an hour   \n",
       "24                      None   \n",
       "25                      None   \n",
       "26                      None   \n",
       "27                      None   \n",
       "28                      None   \n",
       "29                      None   \n",
       "\n",
       "                                          Description  \n",
       "0   Position Description:\\n\\nMathematica applies e...  \n",
       "1   **Absolutely No 3rd parties / No C2C, please**...  \n",
       "2   Passionate about development in leading techno...  \n",
       "3   Job Description:\\n\\nWe are trusted advisers en...  \n",
       "4   Position Overview / Description\\n\\nAt Ford Mot...  \n",
       "5   About Alteryx\\nAlteryx develops software for d...  \n",
       "6   Job Description: This individual will serve as...  \n",
       "7   Lifesprk’s product and engineering team is gro...  \n",
       "8   Description\\nGlobal Data and Analytics Group i...  \n",
       "9   WHY EMPLOYEES SAY BCS IS A GREAT WORKPLACE:\\n\"...  \n",
       "10  WHY EMPLOYEES SAY BCS IS A GREAT WORKPLACE:\\n\"...  \n",
       "11  Responsibilities:\\nApply analytical tools to d...  \n",
       "12  Please note: our interview process is designed...  \n",
       "13  Be a difference maker, with Learning Care Grou...  \n",
       "14  The Mars Agency is a global marketing practice...  \n",
       "15  Company Description\\nArborMetrix advances heal...  \n",
       "16  How to Apply\\nA cover letter is required for c...  \n",
       "17  Passionate about development in leading techno...  \n",
       "18  Domino’s, which began in 1960 as a single stor...  \n",
       "19  There’s a reason Insperity was ranked in the t...  \n",
       "20  Comau LLC is now creating a new team focused o...  \n",
       "21  Job Description\\nSwine Data Science Director, ...  \n",
       "22  Hello! We are looking for a Big Data Engineer ...  \n",
       "23  Responsibilities of the Machine Learning/Compu...  \n",
       "24  Job Title:\\nSite Reliability Engineer [Data Op...  \n",
       "25  Senior Data Scientist to Sartoius Data Analyti...  \n",
       "26  Overview:\\nAt Alteryx, Inc., we live for the t...  \n",
       "27  Introduction\\nAs the Data Scientist you will c...  \n",
       "28  Position Purpose\\n\\nThe Senior Software Develo...  \n",
       "29  As a Retention Data Scientist, you will be del...  "
      ]
     },
     "execution_count": 18,
     "metadata": {},
     "output_type": "execute_result"
    }
   ],
   "source": [
    "df"
   ]
  },
  {
   "cell_type": "markdown",
   "metadata": {},
   "source": [
    "Separating Ann Arbor Jon listings"
   ]
  },
  {
   "cell_type": "code",
   "execution_count": 19,
   "metadata": {},
   "outputs": [
    {
     "data": {
      "text/html": [
       "<div>\n",
       "<style scoped>\n",
       "    .dataframe tbody tr th:only-of-type {\n",
       "        vertical-align: middle;\n",
       "    }\n",
       "\n",
       "    .dataframe tbody tr th {\n",
       "        vertical-align: top;\n",
       "    }\n",
       "\n",
       "    .dataframe thead th {\n",
       "        text-align: right;\n",
       "    }\n",
       "</style>\n",
       "<table border=\"1\" class=\"dataframe\">\n",
       "  <thead>\n",
       "    <tr style=\"text-align: right;\">\n",
       "      <th></th>\n",
       "      <th>Title</th>\n",
       "      <th>Company</th>\n",
       "      <th>Location</th>\n",
       "      <th>Link</th>\n",
       "      <th>Review</th>\n",
       "      <th>Salary</th>\n",
       "      <th>Description</th>\n",
       "    </tr>\n",
       "  </thead>\n",
       "  <tbody>\n",
       "    <tr>\n",
       "      <th>0</th>\n",
       "      <td>Senior Data Visualization Engineer</td>\n",
       "      <td>Mathematica Policy Research</td>\n",
       "      <td>AnnArbor</td>\n",
       "      <td>https://www.indeed.com/rc/clk?jk=c1b417080530d...</td>\n",
       "      <td>3.8</td>\n",
       "      <td>None</td>\n",
       "      <td>Position Description:\\n\\nMathematica applies e...</td>\n",
       "    </tr>\n",
       "    <tr>\n",
       "      <th>2</th>\n",
       "      <td>Senior Data Engineer</td>\n",
       "      <td>Koddi</td>\n",
       "      <td>AnnArbor</td>\n",
       "      <td>https://www.indeed.com/rc/clk?jk=88480da53df38...</td>\n",
       "      <td>None</td>\n",
       "      <td>None</td>\n",
       "      <td>Passionate about development in leading techno...</td>\n",
       "    </tr>\n",
       "    <tr>\n",
       "      <th>5</th>\n",
       "      <td>Sr. Data Scientist</td>\n",
       "      <td>Alteryx, Inc.</td>\n",
       "      <td>AnnArbor</td>\n",
       "      <td>https://www.indeed.com/rc/clk?jk=c45ba03809607...</td>\n",
       "      <td>4.0</td>\n",
       "      <td>None</td>\n",
       "      <td>About Alteryx\\nAlteryx develops software for d...</td>\n",
       "    </tr>\n",
       "    <tr>\n",
       "      <th>9</th>\n",
       "      <td>Data Center Engineer</td>\n",
       "      <td>BCS Data Center Operations</td>\n",
       "      <td>AnnArbor</td>\n",
       "      <td>https://www.indeed.com/company/BCS-Data-Center...</td>\n",
       "      <td>None</td>\n",
       "      <td>None</td>\n",
       "      <td>WHY EMPLOYEES SAY BCS IS A GREAT WORKPLACE:\\n\"...</td>\n",
       "    </tr>\n",
       "    <tr>\n",
       "      <th>10</th>\n",
       "      <td>Chief Engineer - Data Center</td>\n",
       "      <td>BCS Data Center Operations</td>\n",
       "      <td>AnnArbor</td>\n",
       "      <td>https://www.indeed.com/company/BCS-Data-Center...</td>\n",
       "      <td>None</td>\n",
       "      <td>None</td>\n",
       "      <td>WHY EMPLOYEES SAY BCS IS A GREAT WORKPLACE:\\n\"...</td>\n",
       "    </tr>\n",
       "    <tr>\n",
       "      <th>11</th>\n",
       "      <td>Business Analyst</td>\n",
       "      <td>NSK Americas</td>\n",
       "      <td>AnnArbor</td>\n",
       "      <td>https://www.indeed.com/rc/clk?jk=3ff26aa9ead53...</td>\n",
       "      <td>3.5</td>\n",
       "      <td>None</td>\n",
       "      <td>Responsibilities:\\nApply analytical tools to d...</td>\n",
       "    </tr>\n",
       "    <tr>\n",
       "      <th>15</th>\n",
       "      <td>Data Scientist</td>\n",
       "      <td>ArborMetrix</td>\n",
       "      <td>AnnArbor</td>\n",
       "      <td>https://www.indeed.com/rc/clk?jk=ed996cae30b13...</td>\n",
       "      <td>4.5</td>\n",
       "      <td>None</td>\n",
       "      <td>Company Description\\nArborMetrix advances heal...</td>\n",
       "    </tr>\n",
       "    <tr>\n",
       "      <th>16</th>\n",
       "      <td>Instructional Aide (TEMP) - Masters of Applied...</td>\n",
       "      <td>University of Michigan</td>\n",
       "      <td>AnnArbor</td>\n",
       "      <td>https://www.indeed.com/rc/clk?jk=ed1e2c49c0481...</td>\n",
       "      <td>4.3</td>\n",
       "      <td>$18 an hour</td>\n",
       "      <td>How to Apply\\nA cover letter is required for c...</td>\n",
       "    </tr>\n",
       "    <tr>\n",
       "      <th>17</th>\n",
       "      <td>Data Scientist</td>\n",
       "      <td>Koddi</td>\n",
       "      <td>AnnArbor</td>\n",
       "      <td>https://www.indeed.com/rc/clk?jk=f73efbd3afffd...</td>\n",
       "      <td>None</td>\n",
       "      <td>None</td>\n",
       "      <td>Passionate about development in leading techno...</td>\n",
       "    </tr>\n",
       "    <tr>\n",
       "      <th>18</th>\n",
       "      <td>Machine Learning Engineer</td>\n",
       "      <td>Domino's</td>\n",
       "      <td>AnnArbor</td>\n",
       "      <td>https://www.indeed.com/rc/clk?jk=4976a02cc7603...</td>\n",
       "      <td>3.6</td>\n",
       "      <td>None</td>\n",
       "      <td>Domino’s, which began in 1960 as a single stor...</td>\n",
       "    </tr>\n",
       "    <tr>\n",
       "      <th>25</th>\n",
       "      <td>Senior Data Scientist</td>\n",
       "      <td>Sartorius Stedim Biotech</td>\n",
       "      <td>AnnArbor</td>\n",
       "      <td>https://www.indeed.com/rc/clk?jk=ecc23ddedfe55...</td>\n",
       "      <td>3.7</td>\n",
       "      <td>None</td>\n",
       "      <td>Senior Data Scientist to Sartoius Data Analyti...</td>\n",
       "    </tr>\n",
       "    <tr>\n",
       "      <th>26</th>\n",
       "      <td>Director, Data Science</td>\n",
       "      <td>Alteryx, Inc.</td>\n",
       "      <td>AnnArbor</td>\n",
       "      <td>https://www.indeed.com/rc/clk?jk=0815458f19898...</td>\n",
       "      <td>4.0</td>\n",
       "      <td>None</td>\n",
       "      <td>Overview:\\nAt Alteryx, Inc., we live for the t...</td>\n",
       "    </tr>\n",
       "    <tr>\n",
       "      <th>28</th>\n",
       "      <td>Senior Software Developer in Data Science Group</td>\n",
       "      <td>MiHIN</td>\n",
       "      <td>AnnArbor</td>\n",
       "      <td>https://www.indeed.com/rc/clk?jk=b21edf04d6972...</td>\n",
       "      <td>None</td>\n",
       "      <td>None</td>\n",
       "      <td>Position Purpose\\n\\nThe Senior Software Develo...</td>\n",
       "    </tr>\n",
       "  </tbody>\n",
       "</table>\n",
       "</div>"
      ],
      "text/plain": [
       "                                                Title  \\\n",
       "0                  Senior Data Visualization Engineer   \n",
       "2                                Senior Data Engineer   \n",
       "5                                  Sr. Data Scientist   \n",
       "9                                Data Center Engineer   \n",
       "10                       Chief Engineer - Data Center   \n",
       "11                                   Business Analyst   \n",
       "15                                     Data Scientist   \n",
       "16  Instructional Aide (TEMP) - Masters of Applied...   \n",
       "17                                     Data Scientist   \n",
       "18                          Machine Learning Engineer   \n",
       "25                              Senior Data Scientist   \n",
       "26                             Director, Data Science   \n",
       "28    Senior Software Developer in Data Science Group   \n",
       "\n",
       "                        Company  Location  \\\n",
       "0   Mathematica Policy Research  AnnArbor   \n",
       "2                         Koddi  AnnArbor   \n",
       "5                 Alteryx, Inc.  AnnArbor   \n",
       "9    BCS Data Center Operations  AnnArbor   \n",
       "10   BCS Data Center Operations  AnnArbor   \n",
       "11                 NSK Americas  AnnArbor   \n",
       "15                  ArborMetrix  AnnArbor   \n",
       "16       University of Michigan  AnnArbor   \n",
       "17                        Koddi  AnnArbor   \n",
       "18                     Domino's  AnnArbor   \n",
       "25     Sartorius Stedim Biotech  AnnArbor   \n",
       "26                Alteryx, Inc.  AnnArbor   \n",
       "28                        MiHIN  AnnArbor   \n",
       "\n",
       "                                                 Link Review       Salary  \\\n",
       "0   https://www.indeed.com/rc/clk?jk=c1b417080530d...    3.8         None   \n",
       "2   https://www.indeed.com/rc/clk?jk=88480da53df38...   None         None   \n",
       "5   https://www.indeed.com/rc/clk?jk=c45ba03809607...    4.0         None   \n",
       "9   https://www.indeed.com/company/BCS-Data-Center...   None         None   \n",
       "10  https://www.indeed.com/company/BCS-Data-Center...   None         None   \n",
       "11  https://www.indeed.com/rc/clk?jk=3ff26aa9ead53...    3.5         None   \n",
       "15  https://www.indeed.com/rc/clk?jk=ed996cae30b13...    4.5         None   \n",
       "16  https://www.indeed.com/rc/clk?jk=ed1e2c49c0481...    4.3  $18 an hour   \n",
       "17  https://www.indeed.com/rc/clk?jk=f73efbd3afffd...   None         None   \n",
       "18  https://www.indeed.com/rc/clk?jk=4976a02cc7603...    3.6         None   \n",
       "25  https://www.indeed.com/rc/clk?jk=ecc23ddedfe55...    3.7         None   \n",
       "26  https://www.indeed.com/rc/clk?jk=0815458f19898...    4.0         None   \n",
       "28  https://www.indeed.com/rc/clk?jk=b21edf04d6972...   None         None   \n",
       "\n",
       "                                          Description  \n",
       "0   Position Description:\\n\\nMathematica applies e...  \n",
       "2   Passionate about development in leading techno...  \n",
       "5   About Alteryx\\nAlteryx develops software for d...  \n",
       "9   WHY EMPLOYEES SAY BCS IS A GREAT WORKPLACE:\\n\"...  \n",
       "10  WHY EMPLOYEES SAY BCS IS A GREAT WORKPLACE:\\n\"...  \n",
       "11  Responsibilities:\\nApply analytical tools to d...  \n",
       "15  Company Description\\nArborMetrix advances heal...  \n",
       "16  How to Apply\\nA cover letter is required for c...  \n",
       "17  Passionate about development in leading techno...  \n",
       "18  Domino’s, which began in 1960 as a single stor...  \n",
       "25  Senior Data Scientist to Sartoius Data Analyti...  \n",
       "26  Overview:\\nAt Alteryx, Inc., we live for the t...  \n",
       "28  Position Purpose\\n\\nThe Senior Software Develo...  "
      ]
     },
     "execution_count": 19,
     "metadata": {},
     "output_type": "execute_result"
    }
   ],
   "source": [
    "df[df.Location==\"AnnArbor\"]"
   ]
  },
  {
   "cell_type": "markdown",
   "metadata": {},
   "source": [
    "## Find the listed skills for each job posting"
   ]
  },
  {
   "cell_type": "markdown",
   "metadata": {},
   "source": [
    "As an example, take the first job description and develop an algorithm to ectract the listed skills in each job description. The job description text of the first job listed in the data frame is shown below."
   ]
  },
  {
   "cell_type": "code",
   "execution_count": 20,
   "metadata": {},
   "outputs": [],
   "source": [
    "job_description=df.iloc[0,6]"
   ]
  },
  {
   "cell_type": "code",
   "execution_count": 21,
   "metadata": {},
   "outputs": [
    {
     "data": {
      "text/plain": [
       "'Position Description:\\n\\nMathematica applies expertise at the intersection of data, methods, policy, and practice to improve well-being around the world. We collaborate closely with public- and private-sector partners to translate big questions into deep insights that improve programs, refine strategies, and enhance understanding. Our work yields actionable information to guide decisions in wide-ranging policy areas, from health, education, early childhood, and family support to nutrition, employment, disability, and international development.\\nMathematica is expanding its ability to deliver the results of its analytic work through interactive, web-based interfaces. The web development group is hiring a Senior Data Visualization Engineer who can both lead design efforts on both internal and public-facing products and contribute to their development. This position requires the candidate to have an expert level of understanding of data visualization design and implementation. The primary expectations of the position are to:\\nLead design and develop web and application-based data visualization products\\nMentor junior staff in their development of design skills\\nProvide expertise in a consulting capacity on projects throughout the company\\nHelp develop data visualization sections of proposals for new projects\\nWork independently and as part of a team\\nBe self-motivated to learn, introduce new ideas, and teach others\\nTechnical Requirements:\\nDemonstrated expertise in data visualization design\\nStrong design skills and attention to detail\\nExperience creating interactive web-based data visualizations using D3\\nExperience working with web technologies (D3, React/Angular, TypeScript, HTML, SCSS)\\nExperience working with design tools such as Adobe XD or Figma as well as Adobe Creative Cloud\\nExcellent listening and communication skills, including an ability to translate research findings for a policy audience.\\nExperience cleaning, managing, and analyzing large datasets.\\nExperience managing data using Python (pandas), Node, or R\\nExperience with a version control tool(git)\\nDemonstrated knowledge of User Experience design a plus\\nExperience with BI tools (Tableau, Looker, QuickSight, Power BI) a plus\\nPosition Requirements:\\n\\nAdditional Requirements:\\nBachelor’s degree in relevant field; Master’s degree preferred\\n7+ years of experience designing, developing, and implementing solutions in fields that include business intelligence, visual information design, and/or interactive data visualization development\\nMust be a self-starter, capable of independent learning, and inclusive.\\nMust have the ability to juggle multiple projects and be responsible for competing deadlines\\nMust have an entrepreneurial spirit to bring technical solutions to an audience that is not technically savvy\\nHave a strong desire to improve society through evidence-based research\\nAbility to work well in teams\\nStrong writing skills\\nMathematica offers our employees competitive salaries and a comprehensive benefits package, as well as the advantages of being 100 percent employee-owned. As an employee stock owner, you will experience financial benefits of ESOP holdings that have increased in tandem with the company’s growth and financial strength. You will also be part of an independent, employee-owned firm that is able to define and further our mission, enhance our quality and accountability, and steadily grow our financial strength.\\nVarious federal agencies with whom we contract require that staff successfully undergo a background investigation or security clearance as a condition of working on the project. If you are assigned to such a project, you will be required to obtain the requisite security clearance.\\nTo apply, please submit cover letter, resume, portfolio, location preference, and salary requirements at time of application. If your location preference is to work remotely, please mention this in your cover letter. For the portfolio, please attach examples that you would like our Hiring Manager to review. Please do not attach anything proprietary.\\nVisit our web site at www.mathematica.org.\\nAvailable Locations: Woodlawn, MD; Washington, DC; Princeton, NJ; Ann Arbor, MI; Remote\\n#LI-DI1\\nWe are an Equal Opportunity Employer and do not discriminate against any employee or applicant for employment because of race, color, sex, age, national origin, religion, sexual orientation, gender identity, status as a veteran, and basis of disability or any other federal, state or local protected class.'"
      ]
     },
     "execution_count": 21,
     "metadata": {},
     "output_type": "execute_result"
    }
   ],
   "source": [
    "job_description"
   ]
  },
  {
   "cell_type": "code",
   "execution_count": 22,
   "metadata": {},
   "outputs": [],
   "source": [
    "skills_pool=[]"
   ]
  },
  {
   "cell_type": "code",
   "execution_count": 23,
   "metadata": {},
   "outputs": [],
   "source": [
    "job_description_b=df.iloc[7,6]"
   ]
  },
  {
   "cell_type": "code",
   "execution_count": 24,
   "metadata": {},
   "outputs": [
    {
     "data": {
      "text/plain": [
       "\"Lifesprk’s product and engineering team is growing! We are having great success building custom solutions for our teammates in order to bring to light the first ever Life Experience Alternative Delivery System (LEADS). Our focus, and our passion, is Lifecare, not just healthcare. Come join us and be part of building something truly meaningful from the ground up with a diverse team of committed, humble, awesome people. All fully distributed from anywhere in the country!\\n\\nLifesprk, headquartered in Minneapolis (with our head of engineering in Boulder Colorado), has been sparking lives for 15 years and it is time to take our “Whole Person Senior Care” model to a greater and greater reach. And to do that, we need you to come and build the “best in class” platform for whole person health.\\n\\nAs our most senior data scientist you will provider leadership across our data science and analytics efforts. With your expertise we will create predictive insights to support LEADS. In this new role, you will be laying the foundations of how we unlock the insights hidden within all our data. You will help to define our strategies around data governance, security, analysis and AI/ML. You will bring your passion for how data can transform lives.\\n\\nThis hands-on role will require the development of solid processes around data acquisition, analysis and life cycle management. Have your favorite toolset? We would love to hear about how you have done this in the past.\\n\\nThis role requires excellent communication skills, you will be our master storyteller as you identify new business questions, develop analytical methods to answer those questions and conduct experiments to validate our assumptions. All while being hyper focused on quality outcomes for our members.\\n\\nCome use your superpowers for good and join us in Sparking Lives.\\nHow you will spend your days:\\nBuilding a collaborative and service-oriented data and analytics discipline that empowers subject matter experts with data and tools throughout the organization.\\nDelivering and supporting the delivery of retroactive analysis in order to provide deeper understanding of the LEADS initiatives.\\nDesigning the system architecture for the data and analytics environment to ensure:\\nData Quality\\nSystem stability and extensibility\\nScalability\\nMaintainability\\nCollaborating with data engineering team to develop a comprehensive data architecture.\\nBuilding and testing predictive models that increase LEADS efficacy\\nPresenting compelling reports that support the business with powerful stories and statistically sound analysis\\nLeveling up all those around you in how to think about data and analysis\\n\\nWhat you’ll bring to the team:\\nMS in Statistics, Mathematics, Computer Science, Economics, or equivalent.\\nProven experience as a technical leader\\n10+ years professional experience\\n5+ years applied data science/data modeling experience. Ability to analyze large amounts of structured and unstructured data and determine suitability for modeling. Broad understanding and demonstrated history of applying various methods to bring tremendous value to people.\\nStrong modeling foundation – hands-on expertise with data mining and statistical modeling techniques such as clustering, classification, regression, tree-based methods, neural nets, support vector machines, anomaly detection.\\nExpertise in modern advanced analytical tools and programming languages such as Python or R. Efficient in SQL, PIG, Hive, SparkSQL, etc.\\nExperience developing complex ETL processes to support analyst needs\\nA deep understanding of Data Governance and Lifecycle management\\nExperience in a regulated environment a plus and Health Care a big plus\\nProven track record with reports, presentations and other story telling methodologies\\nA commitment to testing and quality. Come teach us a thing or two about your approach toward quality.\\nA bias toward action. You love to push things forward and find creative ways to work around blockers.\\nA positive and energetic attitude\\nDeep experience as a remote contributor. We are fully distributed throughout the US; come help us make it better.\\nWillingness and ability for travel and off-hours support - we need to get together every once in a while, and see each other's smiling faces, let’s meet in your hometown!\""
      ]
     },
     "execution_count": 24,
     "metadata": {},
     "output_type": "execute_result"
    }
   ],
   "source": [
    "job_description_b"
   ]
  },
  {
   "cell_type": "code",
   "execution_count": 57,
   "metadata": {},
   "outputs": [
    {
     "name": "stdout",
     "output_type": "stream",
     "text": [
      "['lifesprk', 's', 'product', 'and', 'engineering', 'team', 'is', 'growing', 'we', 'are', 'having', 'great', 'success', 'building', 'custom', 'solutions', 'for', 'our', 'teammates', 'in', 'order', 'to', 'bring', 'to', 'light', 'the', 'first', 'ever', 'life', 'experience', 'alternative', 'delivery', 'system', 'leads', 'our', 'focus', 'and', 'our', 'passion', 'is', 'lifecare', 'not', 'just', 'healthcare', 'come', 'join', 'us', 'and', 'be', 'part', 'of', 'building', 'something', 'truly', 'meaningful', 'from', 'the', 'ground', 'up', 'with', 'a', 'diverse', 'team', 'of', 'committed', 'humble', 'awesome', 'people', 'all', 'fully', 'distributed', 'from', 'anywhere', 'in', 'the', 'country', 'lifesprk', 'headquartered', 'in', 'minneapolis', 'with', 'our', 'head', 'of', 'engineering', 'in', 'boulder', 'colorado', 'has', 'been', 'sparking', 'lives', 'for', '15', 'years', 'and', 'it', 'is', 'time', 'to', 'take', 'our', 'whole', 'person', 'senior', 'care', 'model', 'to', 'a', 'greater', 'and', 'greater', 'reach', 'and', 'to', 'do', 'that', 'we', 'need', 'you', 'to', 'come', 'and', 'build', 'the', 'best', 'in', 'class', 'platform', 'for', 'whole', 'person', 'health', 'as', 'our', 'most', 'senior', 'data', 'scientist', 'you', 'will', 'provider', 'leadership', 'across', 'our', 'data', 'science', 'and', 'analytics', 'efforts', 'with', 'your', 'expertise', 'we', 'will', 'create', 'predictive', 'insights', 'to', 'support', 'leads', 'in', 'this', 'new', 'role', 'you', 'will', 'be', 'laying', 'the', 'foundations', 'of', 'how', 'we', 'unlock', 'the', 'insights', 'hidden', 'within', 'all', 'our', 'data', 'you', 'will', 'help', 'to', 'define', 'our', 'strategies', 'around', 'data', 'governance', 'security', 'analysis', 'and', 'ai', 'ml', 'you', 'will', 'bring', 'your', 'passion', 'for', 'how', 'data', 'can', 'transform', 'lives', 'this', 'hands', 'on', 'role', 'will', 'require', 'the', 'development', 'of', 'solid', 'processes', 'around', 'data', 'acquisition', 'analysis', 'and', 'life', 'cycle', 'management', 'have', 'your', 'favorite', 'toolset', 'we', 'would', 'love', 'to', 'hear', 'about', 'how', 'you', 'have', 'done', 'this', 'in', 'the', 'past', 'this', 'role', 'requires', 'excellent', 'communication', 'skills', 'you', 'will', 'be', 'our', 'master', 'storyteller', 'as', 'you', 'identify', 'new', 'business', 'questions', 'develop', 'analytical', 'methods', 'to', 'answer', 'those', 'questions', 'and', 'conduct', 'experiments', 'to', 'validate', 'our', 'assumptions', 'all', 'while', 'being', 'hyper', 'focused', 'on', 'quality', 'outcomes', 'for', 'our', 'members', 'come', 'use', 'your', 'superpowers', 'for', 'good', 'and', 'join', 'us', 'in', 'sparking', 'lives', 'how', 'you', 'will', 'spend', 'your', 'days', 'building', 'a', 'collaborative', 'and', 'service', 'oriented', 'data', 'and', 'analytics', 'discipline', 'that', 'empowers', 'subject', 'matter', 'experts', 'with', 'data', 'and', 'tools', 'throughout', 'the', 'organization', 'delivering', 'and', 'supporting', 'the', 'delivery', 'of', 'retroactive', 'analysis', 'in', 'order', 'to', 'provide', 'deeper', 'understanding', 'of', 'the', 'leads', 'initiatives', 'designing', 'the', 'system', 'architecture', 'for', 'the', 'data', 'and', 'analytics', 'environment', 'to', 'ensure', 'data', 'quality', 'system', 'stability', 'and', 'extensibility', 'scalability', 'maintainability', 'collaborating', 'with', 'data', 'engineering', 'team', 'to', 'develop', 'a', 'comprehensive', 'data', 'architecture', 'building', 'and', 'testing', 'predictive', 'models', 'that', 'increase', 'leads', 'efficacy', 'presenting', 'compelling', 'reports', 'that', 'support', 'the', 'business', 'with', 'powerful', 'stories', 'and', 'statistically', 'sound', 'analysis', 'leveling', 'up', 'all', 'those', 'around', 'you', 'in', 'how', 'to', 'think', 'about', 'data', 'and', 'analysis', 'what', 'you', 'll', 'bring', 'to', 'the', 'team', 'ms', 'in', 'statistics', 'mathematics', 'computer', 'science', 'economics', 'or', 'equivalent', 'proven', 'experience', 'as', 'a', 'technical', 'leader', '10', 'years', 'professional', 'experience', '5', 'years', 'applied', 'data', 'science', 'data', 'modeling', 'experience', 'ability', 'to', 'analyze', 'large', 'amounts', 'of', 'structured', 'and', 'unstructured', 'data', 'and', 'determine', 'suitability', 'for', 'modeling', 'broad', 'understanding', 'and', 'demonstrated', 'history', 'of', 'applying', 'various', 'methods', 'to', 'bring', 'tremendous', 'value', 'to', 'people', 'strong', 'modeling', 'foundation', 'hands', 'on', 'expertise', 'with', 'data', 'mining', 'and', 'statistical', 'modeling', 'techniques', 'such', 'as', 'clustering', 'classification', 'regression', 'tree', 'based', 'methods', 'neural', 'nets', 'support', 'vector', 'machines', 'anomaly', 'detection', 'expertise', 'in', 'modern', 'advanced', 'analytical', 'tools', 'and', 'programming', 'languages', 'such', 'as', 'python', 'or', 'r', 'efficient', 'in', 'sql', 'pig', 'hive', 'sparksql', 'etc', 'experience', 'developing', 'complex', 'etl', 'processes', 'to', 'support', 'analyst', 'needs', 'a', 'deep', 'understanding', 'of', 'data', 'governance', 'and', 'lifecycle', 'management', 'experience', 'in', 'a', 'regulated', 'environment', 'a', 'plus', 'and', 'health', 'care', 'a', 'big', 'plus', 'proven', 'track', 'record', 'with', 'reports', 'presentations', 'and', 'other', 'story', 'telling', 'methodologies', 'a', 'commitment', 'to', 'testing', 'and', 'quality', 'come', 'teach', 'us', 'a', 'thing', 'or', 'two', 'about', 'your', 'approach', 'toward', 'quality', 'a', 'bias', 'toward', 'action', 'you', 'love', 'to', 'push', 'things', 'forward', 'and', 'find', 'creative', 'ways', 'to', 'work', 'around', 'blockers', 'a', 'positive', 'and', 'energetic', 'attitude', 'deep', 'experience', 'as', 'a', 'remote', 'contributor', 'we', 'are', 'fully', 'distributed', 'throughout', 'the', 'us', 'come', 'help', 'us', 'make', 'it', 'better', 'willingness', 'and', 'ability', 'for', 'travel', 'and', 'off', 'hours', 'support', 'we', 'need', 'to', 'get', 'together', 'every', 'once', 'in', 'a', 'while', 'and', 'see', 'each', 'other', 's', 'smiling', 'faces', 'let', 's', 'meet', 'in', 'your', 'hometown', '']\n"
     ]
    }
   ],
   "source": [
    "import re\n",
    "def txtToWords(strng):\n",
    "    words = re.split(r'\\W+',strng)\n",
    "    words = [word.lower() for word in words]\n",
    "    \n",
    "    return words\n",
    "    \n",
    "    \n",
    "words=txtToWords(job_description_b)\n",
    "print(words)"
   ]
  },
  {
   "cell_type": "code",
   "execution_count": 83,
   "metadata": {},
   "outputs": [],
   "source": [
    "skills_pool=['sql','pig','hive', 'spark','python', 'scala', 'java', 'linux',  'lake', 'hadoop',  'structures','tableau',  \n",
    "              'aws', 'azure','cloudera', 'snowflake', 'mysql', 'nosql','mapreduce','alteryx', 'javascript', 'html', 'css',\n",
    "            'rshiny','r', 'sas', 'hdfs', 'oracle','ststistical modeling techniques','clustering','classification','regression','tree based methods','SVM']"
   ]
  },
  {
   "cell_type": "code",
   "execution_count": 27,
   "metadata": {},
   "outputs": [
    {
     "data": {
      "text/plain": [
       "'Position Description:\\n\\nMathematica applies expertise at the intersection of data, methods, policy, and practice to improve well-being around the world. We collaborate closely with public- and private-sector partners to translate big questions into deep insights that improve programs, refine strategies, and enhance understanding. Our work yields actionable information to guide decisions in wide-ranging policy areas, from health, education, early childhood, and family support to nutrition, employment, disability, and international development.\\nMathematica is expanding its ability to deliver the results of its analytic work through interactive, web-based interfaces. The web development group is hiring a Senior Data Visualization Engineer who can both lead design efforts on both internal and public-facing products and contribute to their development. This position requires the candidate to have an expert level of understanding of data visualization design and implementation. The primary expectations of the position are to:\\nLead design and develop web and application-based data visualization products\\nMentor junior staff in their development of design skills\\nProvide expertise in a consulting capacity on projects throughout the company\\nHelp develop data visualization sections of proposals for new projects\\nWork independently and as part of a team\\nBe self-motivated to learn, introduce new ideas, and teach others\\nTechnical Requirements:\\nDemonstrated expertise in data visualization design\\nStrong design skills and attention to detail\\nExperience creating interactive web-based data visualizations using D3\\nExperience working with web technologies (D3, React/Angular, TypeScript, HTML, SCSS)\\nExperience working with design tools such as Adobe XD or Figma as well as Adobe Creative Cloud\\nExcellent listening and communication skills, including an ability to translate research findings for a policy audience.\\nExperience cleaning, managing, and analyzing large datasets.\\nExperience managing data using Python (pandas), Node, or R\\nExperience with a version control tool(git)\\nDemonstrated knowledge of User Experience design a plus\\nExperience with BI tools (Tableau, Looker, QuickSight, Power BI) a plus\\nPosition Requirements:\\n\\nAdditional Requirements:\\nBachelor’s degree in relevant field; Master’s degree preferred\\n7+ years of experience designing, developing, and implementing solutions in fields that include business intelligence, visual information design, and/or interactive data visualization development\\nMust be a self-starter, capable of independent learning, and inclusive.\\nMust have the ability to juggle multiple projects and be responsible for competing deadlines\\nMust have an entrepreneurial spirit to bring technical solutions to an audience that is not technically savvy\\nHave a strong desire to improve society through evidence-based research\\nAbility to work well in teams\\nStrong writing skills\\nMathematica offers our employees competitive salaries and a comprehensive benefits package, as well as the advantages of being 100 percent employee-owned. As an employee stock owner, you will experience financial benefits of ESOP holdings that have increased in tandem with the company’s growth and financial strength. You will also be part of an independent, employee-owned firm that is able to define and further our mission, enhance our quality and accountability, and steadily grow our financial strength.\\nVarious federal agencies with whom we contract require that staff successfully undergo a background investigation or security clearance as a condition of working on the project. If you are assigned to such a project, you will be required to obtain the requisite security clearance.\\nTo apply, please submit cover letter, resume, portfolio, location preference, and salary requirements at time of application. If your location preference is to work remotely, please mention this in your cover letter. For the portfolio, please attach examples that you would like our Hiring Manager to review. Please do not attach anything proprietary.\\nVisit our web site at www.mathematica.org.\\nAvailable Locations: Woodlawn, MD; Washington, DC; Princeton, NJ; Ann Arbor, MI; Remote\\n#LI-DI1\\nWe are an Equal Opportunity Employer and do not discriminate against any employee or applicant for employment because of race, color, sex, age, national origin, religion, sexual orientation, gender identity, status as a veteran, and basis of disability or any other federal, state or local protected class.'"
      ]
     },
     "execution_count": 27,
     "metadata": {},
     "output_type": "execute_result"
    }
   ],
   "source": [
    "job_description"
   ]
  },
  {
   "cell_type": "code",
   "execution_count": 84,
   "metadata": {},
   "outputs": [],
   "source": [
    "skills_freq_tot=dict((el,1) for el in skills_pool)"
   ]
  },
  {
   "cell_type": "code",
   "execution_count": 85,
   "metadata": {},
   "outputs": [],
   "source": [
    "def skillFreq(words):\n",
    "\n",
    "    skills_freq= [words.count(word) for word in skills_pool]\n",
    "    \n",
    "    return dict(list(zip(skills_pool,skills_freq)))\n",
    "        "
   ]
  },
  {
   "cell_type": "code",
   "execution_count": 86,
   "metadata": {},
   "outputs": [
    {
     "name": "stdout",
     "output_type": "stream",
     "text": [
      "{'sql': 0, 'pig': 0, 'hive': 0, 'spark': 1, 'python': 2, 'scala': 0, 'java': 1, 'linux': 0, 'lake': 1, 'hadoop': 1, 'structures': 1, 'tableau': 0, 'aws': 0, 'azure': 0, 'cloudera': 0, 'snowflake': 0, 'mysql': 0, 'nosql': 0, 'mapreduce': 0, 'alteryx': 0, 'javascript': 0, 'html': 0, 'css': 0, 'rshiny': 0, 'r': 1, 'sas': 0, 'hdfs': 0, 'oracle': 0, 'ststistical modeling techniques': 0, 'clustering': 1, 'classification': 1, 'regression': 0, 'tree based methods': 0, 'SVM': 0}\n"
     ]
    }
   ],
   "source": [
    "print(skillFreq(words))\n"
   ]
  },
  {
   "cell_type": "code",
   "execution_count": 87,
   "metadata": {},
   "outputs": [],
   "source": [
    "from collections import Counter"
   ]
  },
  {
   "cell_type": "code",
   "execution_count": 88,
   "metadata": {},
   "outputs": [],
   "source": [
    "skills_freq_tot=Counter(skills_freq_tot)+Counter(skillFreq(words))"
   ]
  },
  {
   "cell_type": "code",
   "execution_count": 89,
   "metadata": {},
   "outputs": [
    {
     "data": {
      "text/plain": [
       "Counter({'sql': 1,\n",
       "         'pig': 1,\n",
       "         'hive': 1,\n",
       "         'spark': 2,\n",
       "         'python': 3,\n",
       "         'scala': 1,\n",
       "         'java': 2,\n",
       "         'linux': 1,\n",
       "         'lake': 2,\n",
       "         'hadoop': 2,\n",
       "         'structures': 2,\n",
       "         'tableau': 1,\n",
       "         'aws': 1,\n",
       "         'azure': 1,\n",
       "         'cloudera': 1,\n",
       "         'snowflake': 1,\n",
       "         'mysql': 1,\n",
       "         'nosql': 1,\n",
       "         'mapreduce': 1,\n",
       "         'alteryx': 1,\n",
       "         'javascript': 1,\n",
       "         'html': 1,\n",
       "         'css': 1,\n",
       "         'rshiny': 1,\n",
       "         'r': 2,\n",
       "         'sas': 1,\n",
       "         'hdfs': 1,\n",
       "         'oracle': 1,\n",
       "         'ststistical modeling techniques': 1,\n",
       "         'clustering': 2,\n",
       "         'classification': 2,\n",
       "         'regression': 1,\n",
       "         'tree based methods': 1,\n",
       "         'SVM': 1})"
      ]
     },
     "execution_count": 89,
     "metadata": {},
     "output_type": "execute_result"
    }
   ],
   "source": [
    "skills_freq_tot"
   ]
  },
  {
   "cell_type": "code",
   "execution_count": 90,
   "metadata": {},
   "outputs": [
    {
     "data": {
      "text/plain": [
       "(30, 7)"
      ]
     },
     "execution_count": 90,
     "metadata": {},
     "output_type": "execute_result"
    }
   ],
   "source": [
    "df.shape"
   ]
  },
  {
   "cell_type": "code",
   "execution_count": null,
   "metadata": {},
   "outputs": [],
   "source": []
  },
  {
   "cell_type": "code",
   "execution_count": null,
   "metadata": {},
   "outputs": [],
   "source": []
  },
  {
   "cell_type": "code",
   "execution_count": 91,
   "metadata": {},
   "outputs": [],
   "source": [
    "skills_freq_tot=dict((el,1) for el in skills_pool)\n",
    "for i in range(df.shape[0]):\n",
    "    \n",
    "    job_description= (df.iloc[i,6])\n",
    "    words=txtToWords(job_description)\n",
    "    skills_freq_tot=Counter(skills_freq_tot)+Counter(skillFreq(words))\n",
    "# sorting the dict\n",
    "skills_freq_tot={k: v for k, v in sorted(skills_freq_tot.items(), key=lambda item: item[1], reverse=True)}"
   ]
  },
  {
   "cell_type": "code",
   "execution_count": 92,
   "metadata": {},
   "outputs": [
    {
     "data": {
      "text/plain": [
       "{'python': 27,\n",
       " 'sql': 23,\n",
       " 'tableau': 19,\n",
       " 'r': 18,\n",
       " 'alteryx': 17,\n",
       " 'aws': 16,\n",
       " 'spark': 14,\n",
       " 'java': 11,\n",
       " 'hive': 10,\n",
       " 'hadoop': 10,\n",
       " 'scala': 9,\n",
       " 'hdfs': 8,\n",
       " 'classification': 8,\n",
       " 'linux': 7,\n",
       " 'lake': 7,\n",
       " 'structures': 6,\n",
       " 'nosql': 6,\n",
       " 'regression': 6,\n",
       " 'pig': 5,\n",
       " 'snowflake': 5,\n",
       " 'mapreduce': 5,\n",
       " 'sas': 5,\n",
       " 'clustering': 5,\n",
       " 'azure': 4,\n",
       " 'cloudera': 4,\n",
       " 'html': 3,\n",
       " 'mysql': 2,\n",
       " 'javascript': 2,\n",
       " 'css': 2,\n",
       " 'rshiny': 2,\n",
       " 'oracle': 2,\n",
       " 'ststistical modeling techniques': 1,\n",
       " 'tree based methods': 1,\n",
       " 'SVM': 1}"
      ]
     },
     "execution_count": 92,
     "metadata": {},
     "output_type": "execute_result"
    }
   ],
   "source": [
    "skills_freq_tot"
   ]
  },
  {
   "cell_type": "code",
   "execution_count": 122,
   "metadata": {},
   "outputs": [],
   "source": [
    "total = df.shape[0]\n",
    "skills_prec_tot = {k: round((v / total)*100) for k, v in skills_freq_tot.items()}"
   ]
  },
  {
   "cell_type": "code",
   "execution_count": 123,
   "metadata": {},
   "outputs": [
    {
     "data": {
      "text/plain": [
       "{'python': 90,\n",
       " 'sql': 77,\n",
       " 'tableau': 63,\n",
       " 'r': 60,\n",
       " 'alteryx': 57,\n",
       " 'aws': 53,\n",
       " 'spark': 47,\n",
       " 'java': 37,\n",
       " 'hive': 33,\n",
       " 'hadoop': 33,\n",
       " 'scala': 30,\n",
       " 'hdfs': 27,\n",
       " 'classification': 27,\n",
       " 'linux': 23,\n",
       " 'lake': 23,\n",
       " 'structures': 20,\n",
       " 'nosql': 20,\n",
       " 'regression': 20,\n",
       " 'pig': 17,\n",
       " 'snowflake': 17,\n",
       " 'mapreduce': 17,\n",
       " 'sas': 17,\n",
       " 'clustering': 17,\n",
       " 'azure': 13,\n",
       " 'cloudera': 13,\n",
       " 'html': 10,\n",
       " 'mysql': 7,\n",
       " 'javascript': 7,\n",
       " 'css': 7,\n",
       " 'rshiny': 7,\n",
       " 'oracle': 7,\n",
       " 'ststistical modeling techniques': 3,\n",
       " 'tree based methods': 3,\n",
       " 'SVM': 3}"
      ]
     },
     "execution_count": 123,
     "metadata": {},
     "output_type": "execute_result"
    }
   ],
   "source": [
    "skills_prec_tot"
   ]
  },
  {
   "cell_type": "code",
   "execution_count": 124,
   "metadata": {},
   "outputs": [],
   "source": [
    "import matplotlib.pyplot as plt"
   ]
  },
  {
   "cell_type": "code",
   "execution_count": 125,
   "metadata": {},
   "outputs": [
    {
     "data": {
      "text/plain": [
       "([<matplotlib.axis.XTick at 0x26af4095b88>,\n",
       "  <matplotlib.axis.XTick at 0x26af4095b48>,\n",
       "  <matplotlib.axis.XTick at 0x26af1542548>,\n",
       "  <matplotlib.axis.XTick at 0x26af4015548>,\n",
       "  <matplotlib.axis.XTick at 0x26af3eda6c8>,\n",
       "  <matplotlib.axis.XTick at 0x26af3eda508>,\n",
       "  <matplotlib.axis.XTick at 0x26af2c76888>,\n",
       "  <matplotlib.axis.XTick at 0x26af3fd3c48>,\n",
       "  <matplotlib.axis.XTick at 0x26af4089c48>,\n",
       "  <matplotlib.axis.XTick at 0x26af3e74808>,\n",
       "  <matplotlib.axis.XTick at 0x26af4015388>,\n",
       "  <matplotlib.axis.XTick at 0x26af4076d88>,\n",
       "  <matplotlib.axis.XTick at 0x26af3ff1448>,\n",
       "  <matplotlib.axis.XTick at 0x26af4082dc8>,\n",
       "  <matplotlib.axis.XTick at 0x26af3fdd308>,\n",
       "  <matplotlib.axis.XTick at 0x26af4071dc8>,\n",
       "  <matplotlib.axis.XTick at 0x26af400b248>,\n",
       "  <matplotlib.axis.XTick at 0x26af2c79808>,\n",
       "  <matplotlib.axis.XTick at 0x26af4099cc8>,\n",
       "  <matplotlib.axis.XTick at 0x26af4099848>,\n",
       "  <matplotlib.axis.XTick at 0x26af4066dc8>,\n",
       "  <matplotlib.axis.XTick at 0x26af411b9c8>,\n",
       "  <matplotlib.axis.XTick at 0x26af411e388>,\n",
       "  <matplotlib.axis.XTick at 0x26af411ee08>,\n",
       "  <matplotlib.axis.XTick at 0x26af41219c8>,\n",
       "  <matplotlib.axis.XTick at 0x26af4126508>,\n",
       "  <matplotlib.axis.XTick at 0x26af412a108>,\n",
       "  <matplotlib.axis.XTick at 0x26af412ab48>,\n",
       "  <matplotlib.axis.XTick at 0x26af4121ac8>,\n",
       "  <matplotlib.axis.XTick at 0x26af411b888>,\n",
       "  <matplotlib.axis.XTick at 0x26af412eb88>,\n",
       "  <matplotlib.axis.XTick at 0x26af4131548>,\n",
       "  <matplotlib.axis.XTick at 0x26af4134248>,\n",
       "  <matplotlib.axis.XTick at 0x26af4134b48>],\n",
       " [Text(0, 0, 'python'),\n",
       "  Text(0, 0, 'sql'),\n",
       "  Text(0, 0, 'tableau'),\n",
       "  Text(0, 0, 'r'),\n",
       "  Text(0, 0, 'alteryx'),\n",
       "  Text(0, 0, 'aws'),\n",
       "  Text(0, 0, 'spark'),\n",
       "  Text(0, 0, 'java'),\n",
       "  Text(0, 0, 'hive'),\n",
       "  Text(0, 0, 'hadoop'),\n",
       "  Text(0, 0, 'scala'),\n",
       "  Text(0, 0, 'hdfs'),\n",
       "  Text(0, 0, 'classification'),\n",
       "  Text(0, 0, 'linux'),\n",
       "  Text(0, 0, 'lake'),\n",
       "  Text(0, 0, 'structures'),\n",
       "  Text(0, 0, 'nosql'),\n",
       "  Text(0, 0, 'regression'),\n",
       "  Text(0, 0, 'pig'),\n",
       "  Text(0, 0, 'snowflake'),\n",
       "  Text(0, 0, 'mapreduce'),\n",
       "  Text(0, 0, 'sas'),\n",
       "  Text(0, 0, 'clustering'),\n",
       "  Text(0, 0, 'azure'),\n",
       "  Text(0, 0, 'cloudera'),\n",
       "  Text(0, 0, 'html'),\n",
       "  Text(0, 0, 'mysql'),\n",
       "  Text(0, 0, 'javascript'),\n",
       "  Text(0, 0, 'css'),\n",
       "  Text(0, 0, 'rshiny'),\n",
       "  Text(0, 0, 'oracle'),\n",
       "  Text(0, 0, 'ststistical modeling techniques'),\n",
       "  Text(0, 0, 'tree based methods'),\n",
       "  Text(0, 0, 'SVM')])"
      ]
     },
     "execution_count": 125,
     "metadata": {},
     "output_type": "execute_result"
    },
    {
     "data": {
      "image/png": "[encoded data removed]",
      "text/plain": [
       "<Figure size 432x288 with 1 Axes>"
      ]
     },
     "metadata": {
      "needs_background": "light"
     },
     "output_type": "display_data"
    }
   ],
   "source": [
    "plt.bar(range(len(skills_prec_tot)), list(skills_prec_tot.values()), align='center')\n",
    "plt.xticks(range(len(skills_prec_tot)), list(skills_prec_tot.keys()))"
   ]
  },
  {
   "cell_type": "code",
   "execution_count": 126,
   "metadata": {},
   "outputs": [],
   "source": [
    "import itertools"
   ]
  },
  {
   "cell_type": "code",
   "execution_count": 127,
   "metadata": {},
   "outputs": [],
   "source": [
    "# Initialize limit  \n",
    "N = 10\n",
    "    \n",
    "# Using islice() + items()  \n",
    "# Get first N items in dictionary  \n",
    "top_skills= dict(itertools.islice(skills_prec_tot.items(), N))"
   ]
  },
  {
   "cell_type": "code",
   "execution_count": 128,
   "metadata": {},
   "outputs": [
    {
     "data": {
      "text/plain": [
       "{'python': 90,\n",
       " 'sql': 77,\n",
       " 'tableau': 63,\n",
       " 'r': 60,\n",
       " 'alteryx': 57,\n",
       " 'aws': 53,\n",
       " 'spark': 47,\n",
       " 'java': 37,\n",
       " 'hive': 33,\n",
       " 'hadoop': 33}"
      ]
     },
     "execution_count": 128,
     "metadata": {},
     "output_type": "execute_result"
    }
   ],
   "source": [
    "top_skills"
   ]
  },
  {
   "cell_type": "code",
   "execution_count": 129,
   "metadata": {},
   "outputs": [
    {
     "data": {
      "text/plain": [
       "Text(0.5, 1.0, 'Distribution of top skills')"
      ]
     },
     "execution_count": 129,
     "metadata": {},
     "output_type": "execute_result"
    },
    {
     "data": {
      "image/png": "[encoded data removed]",
      "text/plain": [
       "<Figure size 432x288 with 1 Axes>"
      ]
     },
     "metadata": {
      "needs_background": "light"
     },
     "output_type": "display_data"
    }
   ],
   "source": [
    "plt.bar(range(len(top_skills)), list(top_skills.values()), align='center')\n",
    "plt.xticks(range(len(top_skills)), list(top_skills.keys()))\n",
    "plt.xlabel(\"Top skills\")\n",
    "plt.ylabel(\"precentage (%)\")\n",
    "plt.title('Distribution of top skills')"
   ]
  }
 ],
 "metadata": {
  "kernelspec": {
   "display_name": "Python 3",
   "language": "python",
   "name": "python3"
  },
  "language_info": {
   "codemirror_mode": {
    "name": "ipython",
    "version": 3
   },
   "file_extension": ".py",
   "mimetype": "text/x-python",
   "name": "python",
   "nbconvert_exporter": "python",
   "pygments_lexer": "ipython3",
   "version": "3.7.7"
  }
 },
 "nbformat": 4,
 "nbformat_minor": 4
}
